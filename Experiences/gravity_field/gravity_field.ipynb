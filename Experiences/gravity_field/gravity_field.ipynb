{
 "cells": [
  {
   "cell_type": "code",
   "execution_count": 1,
   "metadata": {},
   "outputs": [],
   "source": [
    "from matplotlib import pyplot as plt\n",
    "import pyshtools as pysh\n",
    "import numpy as np\n"
   ]
  },
  {
   "cell_type": "code",
   "execution_count": 2,
   "metadata": {},
   "outputs": [],
   "source": [
    "clm = pysh.datasets.Earth.XGM2019E()\n",
    "r_earth = 6371.0e3"
   ]
  },
  {
   "cell_type": "code",
   "execution_count": 3,
   "metadata": {},
   "outputs": [],
   "source": [
    "latitudes = np.linspace(-85, 85, 100)\n",
    "longitudes = np.linspace(0, 360, 100)\n",
    "\n",
    "latitudes, longitudes = np.meshgrid(latitudes, longitudes)\n",
    "gravity = np.zeros_like(latitudes)"
   ]
  },
  {
   "cell_type": "code",
   "execution_count": 4,
   "metadata": {},
   "outputs": [
    {
     "name": "stdout",
     "output_type": "stream",
     "text": [
      "xarray.Dataset {\n",
      "dimensions:\n",
      "\tlat = 193 ;\n",
      "\tlon = 385 ;\n",
      "\n",
      "variables:\n",
      "\tfloat64 lat(lat) ;\n",
      "\t\tlat:long_name = latitude ;\n",
      "\t\tlat:units = degrees_north ;\n",
      "\t\tlat:actual_range = [90.0, -90.0] ;\n",
      "\tfloat64 lon(lon) ;\n",
      "\t\tlon:long_name = longitude ;\n",
      "\t\tlon:units = degrees_east ;\n",
      "\t\tlon:actual_range = [0.0, 360.0] ;\n",
      "\tfloat64 radial(lat, lon) ;\n",
      "\t\tradial:actual_range = [-9.781790152782795, -9.766022895959763] ;\n",
      "\t\tradial:comment = pyshtools grid ;\n",
      "\t\tradial:nlat = 193 ;\n",
      "\t\tradial:nlon = 385 ;\n",
      "\t\tradial:lmax = 95 ;\n",
      "\t\tradial:kind = real ;\n",
      "\t\tradial:grid = DH ;\n",
      "\t\tradial:extend = True ;\n",
      "\t\tradial:sampling = 2 ;\n",
      "\t\tradial:title = gravity (radial) ;\n",
      "\t\tradial:long_name = $g_r$ ;\n",
      "\t\tradial:units = $m s^{-2}$ ;\n",
      "\tfloat64 theta(lat, lon) ;\n",
      "\t\ttheta:actual_range = [-0.03343597317474194, 0.03341918103766421] ;\n",
      "\t\ttheta:comment = pyshtools grid ;\n",
      "\t\ttheta:nlat = 193 ;\n",
      "\t\ttheta:nlon = 385 ;\n",
      "\t\ttheta:lmax = 95 ;\n",
      "\t\ttheta:kind = real ;\n",
      "\t\ttheta:grid = DH ;\n",
      "\t\ttheta:extend = True ;\n",
      "\t\ttheta:sampling = 2 ;\n",
      "\t\ttheta:title = gravity (theta) ;\n",
      "\t\ttheta:long_name = $g_\\theta$ ;\n",
      "\t\ttheta:units = $m s^{-2}$ ;\n",
      "\tfloat64 phi(lat, lon) ;\n",
      "\t\tphi:actual_range = [-0.0011617641543129914, 0.0011614137386833463] ;\n",
      "\t\tphi:comment = pyshtools grid ;\n",
      "\t\tphi:nlat = 193 ;\n",
      "\t\tphi:nlon = 385 ;\n",
      "\t\tphi:lmax = 95 ;\n",
      "\t\tphi:kind = real ;\n",
      "\t\tphi:grid = DH ;\n",
      "\t\tphi:extend = True ;\n",
      "\t\tphi:sampling = 2 ;\n",
      "\t\tphi:title = gravity (phi) ;\n",
      "\t\tphi:long_name = $g_\\phi$ ;\n",
      "\t\tphi:units = $m s^{-2}$ ;\n",
      "\tfloat64 total(lat, lon) ;\n",
      "\t\ttotal:actual_range = [9.76602317433862, 9.781791836589642] ;\n",
      "\t\ttotal:comment = pyshtools grid ;\n",
      "\t\ttotal:nlat = 193 ;\n",
      "\t\ttotal:nlon = 385 ;\n",
      "\t\ttotal:lmax = 95 ;\n",
      "\t\ttotal:kind = real ;\n",
      "\t\ttotal:grid = DH ;\n",
      "\t\ttotal:extend = True ;\n",
      "\t\ttotal:sampling = 2 ;\n",
      "\t\ttotal:title = total gravity disturbance ;\n",
      "\t\ttotal:long_name = $|g|$ ;\n",
      "\t\ttotal:units = $m s^{-2}$ ;\n",
      "\tfloat64 potential(lat, lon) ;\n",
      "\t\tpotential:actual_range = [62427027.26805302, 62637614.49275234] ;\n",
      "\t\tpotential:comment = pyshtools grid ;\n",
      "\t\tpotential:nlat = 193 ;\n",
      "\t\tpotential:nlon = 385 ;\n",
      "\t\tpotential:lmax = 95 ;\n",
      "\t\tpotential:kind = real ;\n",
      "\t\tpotential:grid = DH ;\n",
      "\t\tpotential:extend = True ;\n",
      "\t\tpotential:sampling = 2 ;\n",
      "\t\tpotential:title = gravitational potential ;\n",
      "\t\tpotential:long_name = potential ;\n",
      "\t\tpotential:units = $m^2 s^{-2}$ ;\n",
      "\n",
      "// global attributes:\n",
      "\t:title =  ;\n",
      "\t:description =  ;\n",
      "\t:comment = pyshtools grid ;\n",
      "\t:nlat = 193 ;\n",
      "\t:nlon = 385 ;\n",
      "\t:lmax = 95 ;\n",
      "\t:grid = DH ;\n",
      "\t:gm = 398600441500000.0 ;\n",
      "\t:a = 6378136.3 ;\n",
      "\t:f = 0.0 ;\n",
      "\t:omega = 7.292115e-05 ;\n",
      "\t:lmax_calc = 95 ;\n",
      "\t:sampling = 2 ;\n",
      "\t:normal_gravity = True ;\n",
      "\t:n = 192 ;\n",
      "\t:extend = True ;\n",
      "}None\n"
     ]
    }
   ],
   "source": [
    "# clm.expand(grid = \"DH\")\n",
    "grav = clm.expand(lmax = 95).to_xarray()\n",
    "print(grav.info())\n",
    "\n",
    "latitudes = grav.lat.values\n",
    "longitudes = grav.lon.values      \n",
    "pot = grav.potential.values"
   ]
  },
  {
   "cell_type": "code",
   "execution_count": 5,
   "metadata": {},
   "outputs": [
    {
     "data": {
      "image/png": "[encoded data removed]",
      "text/plain": [
       "<Figure size 640x480 with 2 Axes>"
      ]
     },
     "metadata": {},
     "output_type": "display_data"
    }
   ],
   "source": [
    "latitudes, longitudes = np.meshgrid(latitudes, longitudes, indexing='ij')\n",
    "\n",
    "\n",
    "pot = pot - pot.min()\n",
    "pot = pot / pot.max()\n",
    "\n",
    "plt.imshow(pot, origin='lower', extent=[-85, 85, 0, 360])\n",
    "plt.colorbar()\n",
    "plt.show()\n",
    "\n"
   ]
  }
 ],
 "metadata": {
  "kernelspec": {
   "display_name": "base",
   "language": "python",
   "name": "python3"
  },
  "language_info": {
   "codemirror_mode": {
    "name": "ipython",
    "version": 3
   },
   "file_extension": ".py",
   "mimetype": "text/x-python",
   "name": "python",
   "nbconvert_exporter": "python",
   "pygments_lexer": "ipython3",
   "version": "3.11.8"
  }
 },
 "nbformat": 4,
 "nbformat_minor": 2
}
